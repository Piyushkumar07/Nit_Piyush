{
 "cells": [
  {
   "cell_type": "code",
   "execution_count": 24,
   "id": "8d7004e8",
   "metadata": {},
   "outputs": [],
   "source": [
    "def  setify (lst):\n",
    "    unique_set= set(sorted(lst))\n",
    "    return (unique_set)"
   ]
  },
  {
   "cell_type": "code",
   "execution_count": 25,
   "id": "6b7bc7c1",
   "metadata": {},
   "outputs": [
    {
     "data": {
      "text/plain": [
       "{'0', '1', '3', '4', '5', '6', '7', '9'}"
      ]
     },
     "execution_count": 25,
     "metadata": {},
     "output_type": "execute_result"
    }
   ],
   "source": [
    "setify(\"7903943156\")"
   ]
  },
  {
   "cell_type": "code",
   "execution_count": 12,
   "id": "d727c266",
   "metadata": {},
   "outputs": [
    {
     "data": {
      "text/plain": [
       "\"{'h', '4', 'g', 'e', 'H', '9', '7', 'd', 'b', 't', 'j', 'A', 'Y', '6', 'F', 'J', '3', 'S', 'y', '8', '%', 'T', 'G'}\""
      ]
     },
     "execution_count": 12,
     "metadata": {},
     "output_type": "execute_result"
    }
   ],
   "source": [
    "setify(\"ASjhdbgjhdbFYYJGJYTFJHGghdbhj%%6teyt894yt83yt87yt87ye\")"
   ]
  },
  {
   "cell_type": "code",
   "execution_count": 26,
   "id": "31d9ca5a",
   "metadata": {},
   "outputs": [
    {
     "name": "stdout",
     "output_type": "stream",
     "text": [
      "{'6', '4', '1', '5', '0', '9', '7', '3'}\n"
     ]
    }
   ],
   "source": [
    "def unique(l1):\n",
    "    unique_list=set(l1)\n",
    "    print(unique_list)\n",
    "unique('7903943156')"
   ]
  },
  {
   "cell_type": "code",
   "execution_count": 22,
   "id": "2215aad4",
   "metadata": {},
   "outputs": [
    {
     "data": {
      "text/plain": [
       "['A',\n",
       " 'S',\n",
       " 'j',\n",
       " 'h',\n",
       " 'd',\n",
       " 'b',\n",
       " 'g',\n",
       " 'F',\n",
       " 'Y',\n",
       " 'J',\n",
       " 'G',\n",
       " 'T',\n",
       " 'H',\n",
       " '%',\n",
       " '6',\n",
       " 't',\n",
       " 'e',\n",
       " 'y',\n",
       " '8',\n",
       " '9',\n",
       " '4',\n",
       " '3',\n",
       " '7']"
      ]
     },
     "execution_count": 22,
     "metadata": {},
     "output_type": "execute_result"
    }
   ],
   "source": [
    "s1=\"ASjhdbgjhdbFYYJGJYTFJHGghdbhj%%6teyt894yt83yt87yt87ye\"\n",
    "s2=[]\n",
    "for i in s1:\n",
    "    if i in s1:\n",
    "        if i not in s2:\n",
    "            s2.append(i)\n",
    "s2"
   ]
  },
  {
   "cell_type": "code",
   "execution_count": 27,
   "id": "2afd5275",
   "metadata": {},
   "outputs": [
    {
     "data": {
      "text/plain": [
       "['7', '9', '0', '3', '4', '1', '5', '6']"
      ]
     },
     "execution_count": 27,
     "metadata": {},
     "output_type": "execute_result"
    }
   ],
   "source": [
    "s1=\"7903943156\"\n",
    "s2=[]\n",
    "for i in s1:\n",
    "    if i in s1:\n",
    "        if i not in s2:\n",
    "            s2.append(i)\n",
    "s2"
   ]
  },
  {
   "cell_type": "code",
   "execution_count": 1,
   "id": "dec3470d",
   "metadata": {},
   "outputs": [
    {
     "name": "stdout",
     "output_type": "stream",
     "text": [
      "[1, 2, 3, 5, 7, 11, 13, 17, 19, 23, 29, 31, 37, 41, 43, 47, 53, 59, 61, 67, 71, 73, 79, 83, 89, 97]\n"
     ]
    }
   ],
   "source": [
    "# Get the prime numbers from 1 to 100 and store it in list\n",
    "s1=[]\n",
    "for i in range(1,100):\n",
    "    k=0\n",
    "    for j in range(2,i//2+1):\n",
    "        if(i%j==0):\n",
    "            k+=1\n",
    "    if(k<=0):\n",
    "        s1.append(i)\n",
    "print(s1)"
   ]
  },
  {
   "cell_type": "code",
   "execution_count": 29,
   "id": "fb93f95b",
   "metadata": {},
   "outputs": [
    {
     "name": "stdout",
     "output_type": "stream",
     "text": [
      "2 3 5 7 11 13 17 19 23 29 31 37 41 43 47 53 59 61 67 71 73 79 83 89 97 "
     ]
    }
   ],
   "source": [
    "r=100  \n",
    "for i in range(2,r+1):  \n",
    "    k=0  \n",
    "    for j in range(2,i//2+1):  \n",
    "        if(i%j==0):  \n",
    "            k=k+1  \n",
    "    if(k<=0):  \n",
    "        print(i, end = \" \");  "
   ]
  },
  {
   "cell_type": "code",
   "execution_count": null,
   "id": "b9869213",
   "metadata": {},
   "outputs": [],
   "source": []
  }
 ],
 "metadata": {
  "kernelspec": {
   "display_name": "Python 3 (ipykernel)",
   "language": "python",
   "name": "python3"
  },
  "language_info": {
   "codemirror_mode": {
    "name": "ipython",
    "version": 3
   },
   "file_extension": ".py",
   "mimetype": "text/x-python",
   "name": "python",
   "nbconvert_exporter": "python",
   "pygments_lexer": "ipython3",
   "version": "3.11.5"
  }
 },
 "nbformat": 4,
 "nbformat_minor": 5
}
